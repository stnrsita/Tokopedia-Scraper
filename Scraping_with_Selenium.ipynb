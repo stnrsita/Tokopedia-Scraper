{
 "cells": [
  {
   "cell_type": "code",
   "execution_count": 1,
   "metadata": {},
   "outputs": [
    {
     "name": "stdout",
     "output_type": "stream",
     "text": [
      "Data telah tersimpan\n"
     ]
    }
   ],
   "source": [
    "from selenium import webdriver\n",
    "from selenium.webdriver.common.by import By\n",
    "from selenium.webdriver.support.ui import WebDriverWait\n",
    "from selenium.webdriver.support import expected_conditions as EC\n",
    "from bs4 import BeautifulSoup\n",
    "import pandas as pd\n",
    "import time\n",
    "\n",
    "# Setup driver\n",
    "driver = webdriver.Chrome()\n",
    "driver.set_window_size(1300, 900)\n",
    "\n",
    "# Link halaman Tokopedia\n",
    "tokped_link = \"https://www.tokopedia.com/search?st=&q=flat%20shoes&srp_component_id=02.01.00.00&srp_page_id=&srp_page_title=&navsource=\"\n",
    "driver.get(tokped_link)\n",
    "\n",
    "data_produk = []\n",
    "\n",
    "for page in range(3):  # Lakukan scraping pada 5 halaman\n",
    "    time.sleep(3)\n",
    "\n",
    "    # Scroll untuk memastikan semua produk di halaman terload\n",
    "    for i in range(14):\n",
    "        driver.execute_script(f\"window.scrollTo(0, {500 * i});\")\n",
    "        time.sleep(1)\n",
    "\n",
    "    # Parsing halaman setelah scroll\n",
    "    data = BeautifulSoup(driver.page_source, 'html.parser')\n",
    "\n",
    "    # Ambil data dari elemen produk\n",
    "    for area in data.find_all('div', class_='css-5wh65g'):\n",
    "        try:\n",
    "            nama = area.find('div', class_=\"VKNwBTYQmj8+cxNrCQBD6g==\").get_text()\n",
    "            nama_toko = area.find('span', class_=\"X6c-fdwuofj6zGvLKVUaNQ== -9tiTbQgmU1vCjykywQqvA== flip\").get_text()\n",
    "            lokasi = area.find('span', class_=\"-9tiTbQgmU1vCjykywQqvA== flip\").get_text()\n",
    "            harga = area.find('div', class_=\"ELhJqP-Bfiud3i5eBR8NWg==\").get_text()\n",
    "            terjual = area.find('span', class_=\"eLOomHl6J3IWAcdRU8M08A==\")\n",
    "            if terjual:\n",
    "                terjual = terjual.get_text()\n",
    "            rating = area.find('span', class_=\"nBBbPk9MrELbIUbobepKbQ==\")\n",
    "            if rating:\n",
    "                rating = rating.get_text()\n",
    "            gambar = area.find('img')['src']\n",
    "\n",
    "            data_produk.append((nama, nama_toko, lokasi, harga, terjual, rating, gambar))\n",
    "        except Exception as e:\n",
    "            print(\"Error retrieving product data:\", e)\n",
    "\n",
    "    # Coba klik tombol 'Laman berikutnya' dengan explicit wait\n",
    "    try:\n",
    "        next_button = WebDriverWait(driver, 10).until(\n",
    "            EC.element_to_be_clickable((By.CSS_SELECTOR, \"button[aria-label='Laman berikutnya']\"))\n",
    "        )\n",
    "        driver.execute_script(\"arguments[0].scrollIntoView();\", next_button)\n",
    "        time.sleep(2)  # Tambahkan sedikit delay untuk memastikan elemen sudah stabil\n",
    "        next_button.click()\n",
    "        time.sleep(2)  # Tunggu halaman berikutnya untuk dimuat\n",
    "    except Exception as e:\n",
    "        print(\"Tidak dapat mengklik tombol 'Laman berikutnya':\", e)\n",
    "        break\n",
    "\n",
    "# Simpan data ke file CSV/Excel\n",
    "df = pd.DataFrame(data_produk, columns=['Nama', 'Nama toko', 'Lokasi', 'Harga', 'Terjual', 'Rating', 'Gambar'])\n",
    "#df.to_excel('result_scaping_tokped_with_selenium.xlsx', index=False)\n",
    "df.to_csv('result_scaping_tokped_with_selenium.csv', index=False)\n",
    "print('Data telah tersimpan')\n",
    "\n",
    "# Tutup driver\n",
    "driver.quit()"
   ]
  }
 ],
 "metadata": {
  "kernelspec": {
   "display_name": "Python 3",
   "language": "python",
   "name": "python3"
  },
  "language_info": {
   "codemirror_mode": {
    "name": "ipython",
    "version": 3
   },
   "file_extension": ".py",
   "mimetype": "text/x-python",
   "name": "python",
   "nbconvert_exporter": "python",
   "pygments_lexer": "ipython3",
   "version": "3.11.5"
  }
 },
 "nbformat": 4,
 "nbformat_minor": 2
}
